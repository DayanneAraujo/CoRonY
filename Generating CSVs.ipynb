{
 "cells": [
  {
   "cell_type": "code",
   "execution_count": 46,
   "metadata": {
    "collapsed": true
   },
   "outputs": [],
   "source": [
    "import pandas as pd\n",
    "import numpy as np\n",
    "import matplotlib.pyplot as plt\n",
    "import requests"
   ]
  },
  {
   "cell_type": "code",
   "execution_count": 47,
   "metadata": {},
   "outputs": [],
   "source": [
    "# url = 'https://health-infobase.canada.ca/src/data/covidLive/covid19.csv'\n",
    "# file = requests.get(url)\n",
    "# open('covid19.csv', 'wb').write(file.content)\n"
   ]
  },
  {
   "cell_type": "code",
   "execution_count": 48,
   "metadata": {
    "collapsed": true
   },
   "outputs": [],
   "source": [
    "df = pd.read_csv('covid19.csv')"
   ]
  },
  {
   "cell_type": "code",
   "execution_count": 49,
   "metadata": {},
   "outputs": [],
   "source": [
    "def generate_img(df_graph, province):\n",
    "    if len(df_graph) > 0:\n",
    "        df_graph['numconf'].plot(kind='bar')\n",
    "        plt.xticks(rotation=90)\n",
    "        plt.xlabel(\"Date\")\n",
    "        plt.ylabel(\"Number of cases\")\n",
    "        plt.tight_layout()\n",
    "        plt.savefig('./data/{}.png'.format(province))\n",
    "        plt.cla()"
   ]
  },
  {
   "cell_type": "code",
   "execution_count": 50,
   "metadata": {},
   "outputs": [],
   "source": [
    "provinces = df['prname'].unique()\n",
    "for province in provinces:\n",
    "    df_province = df.loc[df['prname'] == province]\n",
    "    pd.to_datetime(df_province['date'])\n",
    "    df_province.set_index('date', inplace=True)\n",
    "    generate_img(df_province, province)\n",
    "    df_province.to_csv('./data/{}.csv'.format(province), sep='\\t', encoding='utf-8')\n"
   ]
  },
  {
   "cell_type": "code",
   "execution_count": null,
   "metadata": {
    "collapsed": true
   },
   "outputs": [],
   "source": []
  }
 ],
 "metadata": {
  "kernelspec": {
   "display_name": "Python 3.6.1 64-bit ('anaconda': virtualenv)",
   "language": "python",
   "name": "python36164bitanacondavirtualenv34cb92bdb6d74120b51a275a487ac379"
  },
  "language_info": {
   "codemirror_mode": {
    "name": "ipython",
    "version": 3
   },
   "file_extension": ".py",
   "mimetype": "text/x-python",
   "name": "python",
   "nbconvert_exporter": "python",
   "pygments_lexer": "ipython3",
   "version": "3.6.1"
  }
 },
 "nbformat": 4,
 "nbformat_minor": 2
}
