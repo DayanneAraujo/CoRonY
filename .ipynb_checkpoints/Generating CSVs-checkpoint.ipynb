{
 "cells": [
  {
   "cell_type": "code",
   "execution_count": 13,
   "metadata": {
    "collapsed": true
   },
   "outputs": [],
   "source": [
    "import pandas as pd\n",
    "import numpy as np\n",
    "import matplotlib.pyplot as plt"
   ]
  },
  {
   "cell_type": "code",
   "execution_count": 14,
   "metadata": {
    "collapsed": true
   },
   "outputs": [],
   "source": [
    "df = pd.read_csv('/Users/Day/Documents/workspace/CoRonY/covid19.csv')"
   ]
  },
  {
   "cell_type": "code",
   "execution_count": 15,
   "metadata": {},
   "outputs": [],
   "source": [
    "def generate_img(df_graph, province):\n",
    "    if len(df_graph) > 0:\n",
    "        df_graph['numconf'].plot(kind='bar')\n",
    "        plt.xticks(rotation=90)\n",
    "        plt.xlabel(\"Date\")\n",
    "        plt.ylabel(\"Number of cases\")\n",
    "        plt.savefig('{}.png'.format(province))"
   ]
  },
  {
   "cell_type": "code",
   "execution_count": 16,
   "metadata": {},
   "outputs": [],
   "source": [
    "provinces = df['prname'].unique()\n",
    "for province in provinces:\n",
    "    df_province = df.loc[df['prnameFR'] == province]\n",
    "    pd.to_datetime(df_province['date'])\n",
    "    df_province.set_index('date', inplace=True)\n",
    "    generate_img(df_province, province)\n",
    "    df_province.to_csv('{}.csv'.format(province), sep='\\t', encoding='utf-8')\n"
   ]
  },
  {
   "cell_type": "code",
   "execution_count": null,
   "metadata": {
    "collapsed": true
   },
   "outputs": [],
   "source": []
  }
 ],
 "metadata": {
  "kernelspec": {
   "display_name": "Python 3.6.1 64-bit ('anaconda': virtualenv)",
   "language": "python",
   "name": "python36164bitanacondavirtualenv34cb92bdb6d74120b51a275a487ac379"
  },
  "language_info": {
   "codemirror_mode": {
    "name": "ipython",
    "version": 3
   },
   "file_extension": ".py",
   "mimetype": "text/x-python",
   "name": "python",
   "nbconvert_exporter": "python",
   "pygments_lexer": "ipython3",
   "version": "3.6.1"
  }
 },
 "nbformat": 4,
 "nbformat_minor": 2
}
